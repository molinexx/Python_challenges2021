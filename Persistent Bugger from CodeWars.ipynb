{
 "cells": [
  {
   "cell_type": "markdown",
   "metadata": {},
   "source": [
    "### Write a function, persistence, that takes in a positive parameter num and returns its multiplicative persistence, which is the number of times you must multiply the digits in num until you reach a single digit."
   ]
  },
  {
   "cell_type": "code",
   "execution_count": 19,
   "metadata": {},
   "outputs": [
    {
     "name": "stdout",
     "output_type": "stream",
     "text": [
      "enter number 39\n",
      "3\n"
     ]
    }
   ],
   "source": [
    "def find_multiplicative_persistence(num):\n",
    "    num_str=str(num)\n",
    "    #print(len(num_str))\n",
    "    counter=0\n",
    "    \n",
    "    while len(num_str)>1:\n",
    "        total=1\n",
    "        counter+=1\n",
    "        for x in num_str:\n",
    "            total*=int(x)\n",
    "        \n",
    "        num_str=str(total)\n",
    "        \n",
    "    return counter\n",
    "\n",
    "\n",
    "\n",
    "numb=input(\"enter number \")\n",
    "print (find_multiplicative_persistence(numb))"
   ]
  }
 ],
 "metadata": {
  "kernelspec": {
   "display_name": "Python 3",
   "language": "python",
   "name": "python3"
  },
  "language_info": {
   "codemirror_mode": {
    "name": "ipython",
    "version": 3
   },
   "file_extension": ".py",
   "mimetype": "text/x-python",
   "name": "python",
   "nbconvert_exporter": "python",
   "pygments_lexer": "ipython3",
   "version": "3.7.4"
  }
 },
 "nbformat": 4,
 "nbformat_minor": 2
}
