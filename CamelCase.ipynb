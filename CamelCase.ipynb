{
 "cells": [
  {
   "cell_type": "markdown",
   "metadata": {},
   "source": [
    " There is a sequence of words in CamelCase as a string of letters, s, having the following properties:\n",
    "\n",
    "It is a concatenation of one or more words consisting of English letters.\n",
    "All letters in the first word are lowercase.\n",
    "For each of the subsequent words, the first letter is uppercase and rest of the letters are lowercase.\n",
    "Given s, determine the number of words in s.\n",
    "\n",
    "Example\n",
    "s= 'oneTwoThree'\n",
    "There are 3 words in the string: 'one', 'Two', 'Three'."
   ]
  },
  {
   "cell_type": "code",
   "execution_count": 4,
   "metadata": {},
   "outputs": [
    {
     "name": "stdout",
     "output_type": "stream",
     "text": [
      "5\n"
     ]
    }
   ],
   "source": [
    "def camelcase(s):\n",
    "    count =0\n",
    "    for x in s:\n",
    "        if x.isupper():\n",
    "            count+=1\n",
    "    return count+1\n",
    "\n",
    "s ='saveChangesInTheEditor'\n",
    "print(camelcase(s))"
   ]
  },
  {
   "cell_type": "code",
   "execution_count": null,
   "metadata": {},
   "outputs": [],
   "source": []
  }
 ],
 "metadata": {
  "kernelspec": {
   "display_name": "Python 3",
   "language": "python",
   "name": "python3"
  },
  "language_info": {
   "codemirror_mode": {
    "name": "ipython",
    "version": 3
   },
   "file_extension": ".py",
   "mimetype": "text/x-python",
   "name": "python",
   "nbconvert_exporter": "python",
   "pygments_lexer": "ipython3",
   "version": "3.7.4"
  }
 },
 "nbformat": 4,
 "nbformat_minor": 2
}
