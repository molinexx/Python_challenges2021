{
 "cells": [
  {
   "cell_type": "markdown",
   "metadata": {},
   "source": [
    "#####  You are in charge of the cake for a child's birthday. You have decided the cake will have one candle for each year of their total age. They will only be able to blow out the tallest of the candles. Count how many candles are tallest.\n",
    "\n",
    "#### Example candles=[4,4,1,3].  The maximum height candles are 4 units high. There are 2 of them, so return 2 .\n",
    "\n",
    "\n",
    "##### Returns:   int: the number of candles that are tallest"
   ]
  },
  {
   "cell_type": "code",
   "execution_count": 4,
   "metadata": {},
   "outputs": [
    {
     "name": "stdout",
     "output_type": "stream",
     "text": [
      "2\n",
      "2\n"
     ]
    }
   ],
   "source": [
    "def birthdayCakeCandles(candles):\n",
    "    tallest=candles[0]\n",
    "    for x in candles:\n",
    "        if x>tallest:\n",
    "            tallest=x\n",
    "    tallest_arr=[z for z in candles if z==tallest]\n",
    "    return (len(tallest_arr))\n",
    "    \n",
    "    #return count\n",
    "\n",
    "    \n",
    "candles=[4,4,1,3]\n",
    "candles=[3, 2, 1, 3]\n",
    "print(birthdayCakeCandles(candles))\n",
    "print(birthdayCakeCandles(candles))"
   ]
  },
  {
   "cell_type": "code",
   "execution_count": null,
   "metadata": {},
   "outputs": [],
   "source": []
  },
  {
   "cell_type": "code",
   "execution_count": null,
   "metadata": {},
   "outputs": [],
   "source": []
  }
 ],
 "metadata": {
  "kernelspec": {
   "display_name": "Python 3",
   "language": "python",
   "name": "python3"
  },
  "language_info": {
   "codemirror_mode": {
    "name": "ipython",
    "version": 3
   },
   "file_extension": ".py",
   "mimetype": "text/x-python",
   "name": "python",
   "nbconvert_exporter": "python",
   "pygments_lexer": "ipython3",
   "version": "3.7.4"
  }
 },
 "nbformat": 4,
 "nbformat_minor": 2
}
