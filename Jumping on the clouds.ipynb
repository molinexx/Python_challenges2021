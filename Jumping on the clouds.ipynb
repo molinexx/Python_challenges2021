{
 "cells": [
  {
   "cell_type": "markdown",
   "metadata": {},
   "source": [
    "##### There is a new mobile game that starts with consecutively numbered clouds. Some of the clouds are thunderheads and others are cumulus. The player can jump on any cumulus cloud having a number that is equal to the number of the current cloud plus  1 or 2. The player must avoid the thunderheads. Determine the minimum number of jumps it will take to jump from the starting postion to the last cloud. It is always possible to win the game. \n",
    "\n",
    "##### For each game, you will get an array of clouds numbered 0 if they are safe or 1  if they must be avoided.\n",
    "\n",
    "##### example =[0,1,0,0,0,1,0]\n",
    "##### Index the array from 0...6. The number on each cloud is its index in the list so the player must avoid the clouds at indices 1  and 5. They could follow these two paths: 0 -> 2 -> 4 -> 6 or 0 -> 2 -> 3 -> 4 -> 6 . The first path takes 3 jumps while the second takes 4 . Return 3.\n",
    "#### example:    [0, 0 ,1 ,0, 0, 1, 0] --> 4, [0, 0 ,0, 0 ,1 ,0]--> 3"
   ]
  },
  {
   "cell_type": "code",
   "execution_count": 30,
   "metadata": {},
   "outputs": [],
   "source": [
    "c=[0, 0, 1, 0, 0 ,1, 0]\n",
    "# output =4"
   ]
  },
  {
   "cell_type": "code",
   "execution_count": 32,
   "metadata": {},
   "outputs": [],
   "source": [
    "c=[0 ,0 ,0, 1, 0, 0]\n",
    "# output =3"
   ]
  },
  {
   "cell_type": "code",
   "execution_count": 34,
   "metadata": {},
   "outputs": [],
   "source": [
    "c=[0, 0 ,0, 0 ,1 ,0]\n",
    "#output = 3"
   ]
  },
  {
   "cell_type": "code",
   "execution_count": 105,
   "metadata": {},
   "outputs": [
    {
     "name": "stdout",
     "output_type": "stream",
     "text": [
      "4\n",
      "3\n",
      "3\n",
      "6\n"
     ]
    }
   ],
   "source": [
    "def jumpingOnClouds(c):\n",
    "    safe_path=[]\n",
    "    index=0\n",
    "    lenght=len(c)\n",
    "\n",
    "    while (index<lenght-1):\n",
    "        #print (safe_path)\n",
    "        #print(\"in\",index) \n",
    "        #print(\"l:\",lenght)    \n",
    "        if index+2<lenght and c[index+2]==0 :\n",
    "            index+=2 \n",
    "            safe_path.append(0)\n",
    "        elif index+1<lenght and c[index+1]==0:\n",
    "            index+=1\n",
    "            safe_path.append(0)\n",
    "\n",
    "    return (len(safe_path))\n",
    "    \n",
    "c1=[0, 0, 1, 0, 0 ,1, 0]\n",
    "#print(len(c1))\n",
    "# output =4\n",
    "c2=[0 ,0 ,0, 1, 0, 0]\n",
    "# output =3\n",
    "c3=[0, 0 ,0, 0 ,1 ,0]\n",
    "#output = 3\n",
    "c4=[0,0,1,0,0,0,0,1,0,0]\n",
    "#output=6\n",
    "print(jumpingOnClouds(c1))\n",
    "print(jumpingOnClouds(c2))\n",
    "print(jumpingOnClouds(c3))\n",
    "print(jumpingOnClouds(c4))"
   ]
  },
  {
   "cell_type": "code",
   "execution_count": null,
   "metadata": {},
   "outputs": [],
   "source": []
  },
  {
   "cell_type": "code",
   "execution_count": null,
   "metadata": {},
   "outputs": [],
   "source": []
  }
 ],
 "metadata": {
  "kernelspec": {
   "display_name": "Python 3",
   "language": "python",
   "name": "python3"
  },
  "language_info": {
   "codemirror_mode": {
    "name": "ipython",
    "version": 3
   },
   "file_extension": ".py",
   "mimetype": "text/x-python",
   "name": "python",
   "nbconvert_exporter": "python",
   "pygments_lexer": "ipython3",
   "version": "3.7.4"
  }
 },
 "nbformat": 4,
 "nbformat_minor": 2
}
