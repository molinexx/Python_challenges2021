{
 "cells": [
  {
   "cell_type": "markdown",
   "metadata": {},
   "source": [
    "##### There is a string,s , of lowercase English letters that is repeated infinitely many times. Given an integer,n , find and print the number of letter a's in the first n letters of the infinite string.\n",
    "\n",
    "##### Example :  s ='abcab' n=10\n",
    "\n",
    "##### The substring we consider is 'abcabcabca' , the first 10 characters of the infinite string. There are 4  occurrences of a in the substring.\n",
    "\n",
    "#### return int: the frequency of a in the substring"
   ]
  },
  {
   "cell_type": "code",
   "execution_count": 43,
   "metadata": {},
   "outputs": [
    {
     "name": "stdout",
     "output_type": "stream",
     "text": [
      "7\n",
      "4\n"
     ]
    }
   ],
   "source": [
    "def repeatedString(s, n):\n",
    "    ulamek=s.count(\"a\")/len(s)\n",
    "    return (round(ulamek*n))       \n",
    "#use new_string.count(\"a\")\n",
    "\n",
    "s='aba'\n",
    "n=10\n",
    "\n",
    "s2=\"abcac\"\n",
    "n2=10\n",
    "\n",
    "s3='a'\n",
    "n3=100000000000\n",
    "\n",
    "print(repeatedString(s,n))\n",
    "print(repeatedString(s2,n2))\n",
    "#print(repeatedString(s3,n3)) => on big number I am getting memory error!!"
   ]
  },
  {
   "cell_type": "code",
   "execution_count": 57,
   "metadata": {},
   "outputs": [
    {
     "name": "stdout",
     "output_type": "stream",
     "text": [
      "7\n",
      "4\n",
      "100000000000\n",
      "4\n"
     ]
    }
   ],
   "source": [
    "def repeatedString(s, n):\n",
    "    multiplier=int(n/len(s)) \n",
    "    modulus_string=s[0: n%(len(s))]\n",
    "    return (s.count(\"a\")*multiplier + modulus_string.count(\"a\"))\n",
    "       \n",
    "#use new_string.count(\"a\")\n",
    "\n",
    "s='aba'\n",
    "n=10\n",
    "\n",
    "s2=\"abcac\"\n",
    "n2=10\n",
    "\n",
    "s3='a'\n",
    "n3=100000000000\n",
    "\n",
    "s4=\"ababa\"\n",
    "n4=7\n",
    "\n",
    "print(repeatedString(s,n))\n",
    "print(repeatedString(s2,n2))\n",
    "print(repeatedString(s3,n3)) \n",
    "print(repeatedString(s4,n4)) "
   ]
  },
  {
   "cell_type": "code",
   "execution_count": null,
   "metadata": {},
   "outputs": [],
   "source": []
  }
 ],
 "metadata": {
  "kernelspec": {
   "display_name": "Python 3",
   "language": "python",
   "name": "python3"
  },
  "language_info": {
   "codemirror_mode": {
    "name": "ipython",
    "version": 3
   },
   "file_extension": ".py",
   "mimetype": "text/x-python",
   "name": "python",
   "nbconvert_exporter": "python",
   "pygments_lexer": "ipython3",
   "version": "3.7.4"
  }
 },
 "nbformat": 4,
 "nbformat_minor": 2
}
