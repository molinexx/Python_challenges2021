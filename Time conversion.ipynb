{
 "cells": [
  {
   "cell_type": "markdown",
   "metadata": {},
   "source": [
    "##### Given a time in 12 -hour AM/PM format, convert it to military (24-hour) time.\n",
    "\n",
    "##### Note: - 12:00:00AM on a 12-hour clock is 00:00:00 on a 24-hour clock.\n",
    "##### - 12:00:00PM on a 12-hour clock is 12:00:00 on a 24-hour clock.\n",
    "\n",
    "Example\n",
    "\n",
    "s='12:01:00PM'\n",
    "Return '12:01:00'.\n",
    "\n",
    "s='12:01:00AM'\n",
    "Return '00:01:00'."
   ]
  },
  {
   "cell_type": "code",
   "execution_count": 40,
   "metadata": {},
   "outputs": [
    {
     "name": "stdout",
     "output_type": "stream",
     "text": [
      "14:01:00\n"
     ]
    }
   ],
   "source": [
    "def timeConversion(s):\n",
    "    new_time=''\n",
    "    if s[-2:]=='AM':\n",
    "        if s[0:2]=='12':\n",
    "            new_time=new_time +\"00\"+s[2:8]\n",
    "            print(new_time)\n",
    "        else:\n",
    "            #print(s)\n",
    "            new_time+=s[:8]\n",
    "    else:\n",
    "        if s[0:2]=='12':\n",
    "            new_time+=s[:8]\n",
    "        else:\n",
    "            hour=str(int(s[:2])+12)\n",
    "            new_time=new_time +hour+s[2:8]    \n",
    "    return (new_time)\n",
    "        \n",
    "    #elif s[0:2]==12 and s[-2]==PM\n",
    "    return (new_time)\n",
    "    \n",
    "s='02:01:00PM'\n",
    "print(timeConversion(s))\n",
    "\n",
    "#s='01:01:00AM'\n",
    "#print(timeConversion(s))\n"
   ]
  },
  {
   "cell_type": "code",
   "execution_count": null,
   "metadata": {},
   "outputs": [],
   "source": []
  }
 ],
 "metadata": {
  "kernelspec": {
   "display_name": "Python 3",
   "language": "python",
   "name": "python3"
  },
  "language_info": {
   "codemirror_mode": {
    "name": "ipython",
    "version": 3
   },
   "file_extension": ".py",
   "mimetype": "text/x-python",
   "name": "python",
   "nbconvert_exporter": "python",
   "pygments_lexer": "ipython3",
   "version": "3.7.4"
  }
 },
 "nbformat": 4,
 "nbformat_minor": 2
}
