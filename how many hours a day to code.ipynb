{
 "cells": [
  {
   "cell_type": "code",
   "execution_count": null,
   "metadata": {},
   "outputs": [],
   "source": [
    "sleep = float(input(\"ho many hours do you sleep? \"))\n",
    "eat = float (input('how many hours do you spend eating: '))\n",
    "grooming = float (input(' how many hours a day do you spend on personal hygiene: '))\n",
    "social = float( input('ho many hours a day you spend socializing: '))\n",
    "work = float (input('how many hours you on work/school? '))\n",
    "\n",
    "day = 24\n",
    "print (\"You can program Python for \", day - (sleep+eat+grooming+ social +work), 'hours a day')"
   ]
  },
  {
   "cell_type": "code",
   "execution_count": null,
   "metadata": {},
   "outputs": [],
   "source": []
  }
 ],
 "metadata": {
  "kernelspec": {
   "display_name": "Python 3",
   "language": "python",
   "name": "python3"
  },
  "language_info": {
   "codemirror_mode": {
    "name": "ipython",
    "version": 3
   },
   "file_extension": ".py",
   "mimetype": "text/x-python",
   "name": "python",
   "nbconvert_exporter": "python",
   "pygments_lexer": "ipython3",
   "version": "3.7.4"
  }
 },
 "nbformat": 4,
 "nbformat_minor": 2
}
