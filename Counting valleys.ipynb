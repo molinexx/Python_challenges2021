{
 "cells": [
  {
   "cell_type": "markdown",
   "metadata": {},
   "source": [
    "##### An avid hiker keeps meticulous records of their hikes. During the last hike that took exactly  steps, for every step it was noted if it was an uphill, , or a downhill,  step. Hikes always start and end at sea level, and each step up or down represents a  unit change in altitude. We define the following terms:\n",
    "\n",
    "##### A mountain is a sequence of consecutive steps above sea level, starting with a step up from sea level and ending with a step down to sea level.   A valley is a sequence of consecutive steps below sea level, starting with a step down from sea level and ending with a step up to sea level.  Given the sequence of up and down steps during a hike, find and print the number of valleys walked through.\n",
    "\n",
    "##### Example:\n",
    "##### steps = 8 path = [ D D U U U U D D ]\n",
    "##### The hiker first enters a valley 2  units deep. Then they climb out and up onto a mountain  2 units high. Finally, the hiker returns to sea level and ends the hike.\n",
    "\n",
    "##### countingValleys has the following parameter(s):\n",
    "\n",
    "##### int steps: the number of steps on the hike  ;   string path: a string describing the path\n",
    "#####  Returns   -    int: the number of valleys traversed"
   ]
  },
  {
   "cell_type": "code",
   "execution_count": null,
   "metadata": {},
   "outputs": [],
   "source": []
  },
  {
   "cell_type": "code",
   "execution_count": 26,
   "metadata": {},
   "outputs": [
    {
     "name": "stdout",
     "output_type": "stream",
     "text": [
      "[0, 1, 0, -1, -2, -1, -2, -1, 0, -1, -2, -1, 0, 1, 2, 1, 0, -1, 0]\n"
     ]
    },
    {
     "data": {
      "text/plain": [
       "3"
      ]
     },
     "execution_count": 26,
     "metadata": {},
     "output_type": "execute_result"
    }
   ],
   "source": [
    "def countingValleys(steps, path):\n",
    "    elev=0\n",
    "    #we starting from sea level so I need to enter starting point as 0\n",
    "    elev_path=[0]\n",
    "    for x in path:\n",
    "        if x==\"U\":\n",
    "            elev+=1\n",
    "        else:\n",
    "            elev-=1\n",
    "        #print(elev)    \n",
    "        if elev>=0:\n",
    "            elev_path.append(elev)\n",
    "        else:\n",
    "            elev_path.append(elev)\n",
    "            \n",
    "    print (elev_path)\n",
    "    valleys=0\n",
    "    \n",
    "\n",
    "    \n",
    "    \n",
    "    for n in range(len(elev_path)-1):\n",
    "        if (elev_path[n] ==0) and (elev_path[n+1] <0):\n",
    "            valleys+=1\n",
    "    #print (valleys)\n",
    "    return valleys\n",
    "    \n",
    "    \n",
    "steps=18\n",
    "path=['U','D','D','D','U','D','U','U','D','D','U','U','U','U','D',\"D\",'D','U']\n",
    "\n",
    "countingValleys(steps,path)"
   ]
  },
  {
   "cell_type": "code",
   "execution_count": null,
   "metadata": {},
   "outputs": [],
   "source": []
  },
  {
   "cell_type": "code",
   "execution_count": null,
   "metadata": {},
   "outputs": [],
   "source": []
  }
 ],
 "metadata": {
  "kernelspec": {
   "display_name": "Python 3",
   "language": "python",
   "name": "python3"
  },
  "language_info": {
   "codemirror_mode": {
    "name": "ipython",
    "version": 3
   },
   "file_extension": ".py",
   "mimetype": "text/x-python",
   "name": "python",
   "nbconvert_exporter": "python",
   "pygments_lexer": "ipython3",
   "version": "3.7.4"
  }
 },
 "nbformat": 4,
 "nbformat_minor": 2
}
