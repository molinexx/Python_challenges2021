{
 "cells": [
  {
   "cell_type": "markdown",
   "metadata": {},
   "source": [
    "#### Take an input string parameter and determine if exactly 3 question marks exist between every pair of numbers that add up to 10. If so, return true, otherwise return false. Some examples test cases are below:"
   ]
  },
  {
   "cell_type": "code",
   "execution_count": 105,
   "metadata": {},
   "outputs": [],
   "source": [
    "string1=\"arrb6???4xxbl5???eee5\"  ## 6???4 6+4=10 and yes 3x? true\n",
    "string2=\"acc?7??sss?3rr1??????5\"\n",
    "string3=\"5??aaaaaaaaaaaaaaaaaaa?5?5\"\n",
    "string4=\"9???1???9???1???9\"\n",
    "string5=\"aa6?9\""
   ]
  },
  {
   "cell_type": "code",
   "execution_count": 106,
   "metadata": {},
   "outputs": [
    {
     "name": "stdout",
     "output_type": "stream",
     "text": [
      "arrb6???4xxbl5???eee5\n",
      "True\n",
      "\n",
      "acc?7??sss?3rr1??????5\n",
      "True\n",
      "\n",
      "5??aaaaaaaaaaaaaaaaaaa?5?5\n",
      "False\n",
      "\n",
      "9???1???9???1???9\n",
      "True\n",
      "\n",
      "aa6?9\n",
      "False\n"
     ]
    }
   ],
   "source": [
    "def check_for_seqence(list_to_check):\n",
    "    found=True\n",
    "    for string_to_check in list_to_check:\n",
    "        string_to_check.split()\n",
    "        total=0\n",
    "        for x in string_to_check:\n",
    "            if x.isdigit():            \n",
    "                total+=int(x)\n",
    "        \n",
    "        list_of_questionmarks=[]\n",
    "        for z in string_to_check:\n",
    "            if z==\"?\":\n",
    "                list_of_questionmarks.append(z)\n",
    "\n",
    "        if (total>=10) and (len(list_of_questionmarks)<3):\n",
    "            found=False\n",
    "    return found        \n",
    "    \n",
    "      \n",
    "    \n",
    "def check_string(given_string):\n",
    "    print (given_string)\n",
    "    \n",
    "    index_list=[]\n",
    "    for x in range (len(given_string)):        \n",
    "        if given_string[x].isdigit():\n",
    "            index_list.append(x)\n",
    "    \n",
    "    whole_set=[]\n",
    "    for z in range (len(index_list)-1):\n",
    "        single_set=given_string[(index_list[z]):(index_list[z+1])+1]        \n",
    "        whole_set.append(single_set)\n",
    "        \n",
    "    return check_for_seqence(whole_set)\n",
    "   \n",
    "       \n",
    "    \n",
    "    \n",
    "\n",
    "\n",
    "print (check_string(string1))\n",
    "print()\n",
    "print (check_string(string2))\n",
    "print()\n",
    "print (check_string(string3))\n",
    "print()\n",
    "print (check_string(string4))\n",
    "print()\n",
    "print (check_string(string5))\n",
    "\n"
   ]
  },
  {
   "cell_type": "code",
   "execution_count": null,
   "metadata": {},
   "outputs": [],
   "source": []
  }
 ],
 "metadata": {
  "kernelspec": {
   "display_name": "Python 3",
   "language": "python",
   "name": "python3"
  },
  "language_info": {
   "codemirror_mode": {
    "name": "ipython",
    "version": 3
   },
   "file_extension": ".py",
   "mimetype": "text/x-python",
   "name": "python",
   "nbconvert_exporter": "python",
   "pygments_lexer": "ipython3",
   "version": "3.7.4"
  }
 },
 "nbformat": 4,
 "nbformat_minor": 2
}
