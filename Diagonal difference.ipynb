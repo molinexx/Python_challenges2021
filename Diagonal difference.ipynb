{
 "cells": [
  {
   "cell_type": "markdown",
   "metadata": {},
   "source": [
    "##### Given a square matrix, calculate the absolute difference between the sums of its diagonals.\n",
    "\n",
    "##### For example, the square matrix  is shown below:"
   ]
  },
  {
   "cell_type": "code",
   "execution_count": null,
   "metadata": {},
   "outputs": [],
   "source": [
    "1 2 3\n",
    "4 5 6\n",
    "9 8 9  "
   ]
  },
  {
   "cell_type": "markdown",
   "metadata": {},
   "source": [
    "#### The left-to-right diagonal  1 + 5 + 9 = 15. The right to left diagonal 3+5+9 =17 .\n",
    "##### Their absolute difference is 15-17= 2."
   ]
  },
  {
   "cell_type": "code",
   "execution_count": 22,
   "metadata": {},
   "outputs": [
    {
     "name": "stdout",
     "output_type": "stream",
     "text": [
      "0\n"
     ]
    }
   ],
   "source": [
    "def diagonalDifference(arr):\n",
    "    n=len(arr[0])\n",
    "    total_left=0\n",
    "    total_right=0\n",
    "    for row in range( n):\n",
    "        total_left+=arr[row][row]  \n",
    "        total_right+=arr[row][(n-1)-row]\n",
    "    \n",
    "    return abs(total_left- total_right)\n",
    "    \n",
    "    \n",
    "    \n",
    "arr=[[1 ,2, 3], [4, 5, 6], [9, 8, 9]]\n",
    "#arr=[[4,9,2],[3,5,7],[8,1,6]] \n",
    "print (diagonalDifference(arr))"
   ]
  },
  {
   "cell_type": "code",
   "execution_count": null,
   "metadata": {},
   "outputs": [],
   "source": []
  }
 ],
 "metadata": {
  "kernelspec": {
   "display_name": "Python 3",
   "language": "python",
   "name": "python3"
  },
  "language_info": {
   "codemirror_mode": {
    "name": "ipython",
    "version": 3
   },
   "file_extension": ".py",
   "mimetype": "text/x-python",
   "name": "python",
   "nbconvert_exporter": "python",
   "pygments_lexer": "ipython3",
   "version": "3.7.4"
  }
 },
 "nbformat": 4,
 "nbformat_minor": 2
}
