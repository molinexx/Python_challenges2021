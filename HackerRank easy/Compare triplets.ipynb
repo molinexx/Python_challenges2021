{
 "cells": [
  {
   "cell_type": "markdown",
   "metadata": {},
   "source": [
    "##### Alice and Bob each created one problem for HackerRank. A reviewer rates the two challenges, awarding points on a scale from 1 to 100 for three categories: problem clarity, originality, and difficulty.\n",
    "\n",
    "##### The rating for Alice's challenge is the triplet a = (a[0], a[1], a[2]), and the rating for Bob's challenge is the triplet b = (b[0], b[1], b[2]).\n",
    "\n",
    "##### The task is to find their comparison points by comparing a[0] with b[0], a[1] with b[1], and a[2] with b[2].\n",
    "\n",
    "##### If a[i] > b[i], then Alice is awarded 1 point.\n",
    "##### If a[i] < b[i], then Bob is awarded 1 point.\n",
    "##### If a[i] = b[i], then neither person receives a point.\n",
    "##### Comparison points is the total points a person earned. Given a and b, determine their respective comparison points."
   ]
  },
  {
   "cell_type": "code",
   "execution_count": 4,
   "metadata": {},
   "outputs": [
    {
     "name": "stdout",
     "output_type": "stream",
     "text": [
      "[1, 1]\n",
      "[2, 1]\n"
     ]
    }
   ],
   "source": [
    "def compareTriplets(a, b):\n",
    "    Alice=0\n",
    "    Ben=0\n",
    "    for x in range(len(a)):\n",
    "        if a[x]>b[x]:\n",
    "            Alice+=1\n",
    "        elif a[x]<b[x]:\n",
    "            Ben+=1\n",
    "\n",
    "    return [Alice, Ben]\n",
    "\n",
    "a = [1, 2, 3]\n",
    "b = [3, 2, 1]\n",
    "\n",
    "a2=[17, 28, 30]\n",
    "b2=[99 ,16 ,8]\n",
    "\n",
    "print( compareTriplets(a, b))\n",
    "print( compareTriplets(a2, b2))"
   ]
  },
  {
   "cell_type": "code",
   "execution_count": null,
   "metadata": {},
   "outputs": [],
   "source": []
  }
 ],
 "metadata": {
  "kernelspec": {
   "display_name": "Python 3",
   "language": "python",
   "name": "python3"
  },
  "language_info": {
   "codemirror_mode": {
    "name": "ipython",
    "version": 3
   },
   "file_extension": ".py",
   "mimetype": "text/x-python",
   "name": "python",
   "nbconvert_exporter": "python",
   "pygments_lexer": "ipython3",
   "version": "3.7.4"
  }
 },
 "nbformat": 4,
 "nbformat_minor": 2
}
