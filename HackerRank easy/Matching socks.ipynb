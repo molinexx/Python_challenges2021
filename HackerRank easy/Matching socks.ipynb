{
 "cells": [
  {
   "cell_type": "markdown",
   "metadata": {},
   "source": [
    "#### Matching socks "
   ]
  },
  {
   "cell_type": "code",
   "execution_count": 5,
   "metadata": {},
   "outputs": [
    {
     "data": {
      "text/plain": [
       "[1, 3, 4, 2, 1, 3, 3]"
      ]
     },
     "execution_count": 5,
     "metadata": {},
     "output_type": "execute_result"
    }
   ],
   "source": [
    "import random\n",
    "n=7\n",
    "ar=[random.randint(1,4)for x in range (n)  ]\n",
    "ar       \n"
   ]
  },
  {
   "cell_type": "code",
   "execution_count": 19,
   "metadata": {},
   "outputs": [
    {
     "name": "stdout",
     "output_type": "stream",
     "text": [
      "{10: 4, 20: 3, 30: 1, 50: 1}\n",
      "3\n"
     ]
    }
   ],
   "source": [
    "n=9\n",
    "ar=[10, 20, 20, 10 ,10 ,30 ,50, 10, 20]\n",
    "\n",
    "def sockMerchant(n, ar):\n",
    "    temp_dict={}\n",
    "    for x in ar:\n",
    "        if x not in temp_dict:\n",
    "            temp_dict[x]=1\n",
    "        else:\n",
    "            temp_dict[x]+=1\n",
    "    print (temp_dict)\n",
    "    \n",
    "    counter=0\n",
    "    for k,v in temp_dict.items():\n",
    "        if v%2==0:\n",
    "            #print (k)\n",
    "            pairs=v/2\n",
    "            counter+=pairs\n",
    "            \n",
    "        elif (v%2!=0) and (v>2):\n",
    "            pairs=(v-1)/2\n",
    "            counter+=pairs\n",
    "            #print (k)\n",
    "    #print(\"there is exactly \",int(counter),\" pair(s) of matching socks\")\n",
    "    return (int(counter))\n",
    "\n",
    "\n",
    "print (sockMerchant(n,ar))"
   ]
  },
  {
   "cell_type": "code",
   "execution_count": null,
   "metadata": {},
   "outputs": [],
   "source": []
  }
 ],
 "metadata": {
  "kernelspec": {
   "display_name": "Python 3",
   "language": "python",
   "name": "python3"
  },
  "language_info": {
   "codemirror_mode": {
    "name": "ipython",
    "version": 3
   },
   "file_extension": ".py",
   "mimetype": "text/x-python",
   "name": "python",
   "nbconvert_exporter": "python",
   "pygments_lexer": "ipython3",
   "version": "3.7.4"
  }
 },
 "nbformat": 4,
 "nbformat_minor": 2
}
