{
 "cells": [
  {
   "cell_type": "markdown",
   "metadata": {},
   "source": [
    "##### In this challenge, you are required to calculate and print the sum of the elements in an array, keeping in mind that some of those integers may be quite large.\n",
    "\n",
    "##### Function Description\n",
    "\n",
    "##### Complete the aVeryBigSum function in the editor below. It must return the sum of all array elements. aVeryBigSum has the following parameter(s):\n",
    "\n",
    "##### int ar[n]: an array of integers .\n",
    "##### Return   long: the sum of all array elements"
   ]
  },
  {
   "cell_type": "code",
   "execution_count": 10,
   "metadata": {},
   "outputs": [
    {
     "name": "stdout",
     "output_type": "stream",
     "text": [
      "5000000015\n"
     ]
    }
   ],
   "source": [
    "def aVeryBigSum(ar):\n",
    "    longest=0\n",
    "    for x in ar:\n",
    "        if x>longest:\n",
    "            longest=x\n",
    " \n",
    "    factor=int(\"1\"+(\"0\"*(len(str(longest))-2)))\n",
    "\n",
    "    sums=0\n",
    "    for x in ar:\n",
    "        sums+=x/factor\n",
    "    print(int(sums*factor))\n",
    "\n",
    "n=5\n",
    "ar=[ 1000000001, 1000000002, 1000000003, 1000000004, 1000000005]\n",
    "aVeryBigSum(ar)"
   ]
  },
  {
   "cell_type": "code",
   "execution_count": null,
   "metadata": {},
   "outputs": [],
   "source": []
  }
 ],
 "metadata": {
  "kernelspec": {
   "display_name": "Python 3",
   "language": "python",
   "name": "python3"
  },
  "language_info": {
   "codemirror_mode": {
    "name": "ipython",
    "version": 3
   },
   "file_extension": ".py",
   "mimetype": "text/x-python",
   "name": "python",
   "nbconvert_exporter": "python",
   "pygments_lexer": "ipython3",
   "version": "3.7.4"
  }
 },
 "nbformat": 4,
 "nbformat_minor": 2
}
