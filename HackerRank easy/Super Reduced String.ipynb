{
 "cells": [
  {
   "cell_type": "code",
   "execution_count": null,
   "metadata": {},
   "outputs": [],
   "source": [
    "# Reduce a string of lowercase characters in range ascii[‘a’..’z’]by doing a series of operations. \n",
    "# In each operation, select a pair of adjacent letters that match, and delete them.\n",
    "\n",
    "# Delete as many characters as possible using this method and return the resulting string.\n",
    "#If the final string is empty, return Empty String else return reamining string\n"
   ]
  },
  {
   "cell_type": "code",
   "execution_count": 85,
   "metadata": {},
   "outputs": [
    {
     "name": "stdout",
     "output_type": "stream",
     "text": [
      "Empty String\n",
      "abd\n",
      "cd\n",
      "Empty String\n",
      "Empty String\n"
     ]
    }
   ],
   "source": [
    "def superReducedString(s): \n",
    "    # your code here: \n",
    "    rs = list(s)\n",
    "    x=0\n",
    "    while x <len(rs) -1:        \n",
    "        if rs[x] ==rs[x+1] and x ==0:\n",
    "            rs.pop(x+1)\n",
    "            rs.pop(x)\n",
    "        elif rs[x] ==rs[x+1] and x !=0:\n",
    "            rs.pop(x+1)\n",
    "            rs.pop(x)\n",
    "            x-=1\n",
    "        else:\n",
    "            x+=1             \n",
    "\n",
    "    if len(rs)== 0:\n",
    "        return 'Empty String'\n",
    "    else:\n",
    "        return ''.join(rs)\n",
    "    \n",
    "string  = 'baab'\n",
    "string2 = 'aaabccddd'\n",
    "string3 = 'aaaacdaa'\n",
    "string4 = 'mwkommokwmxjivkkvijxshscbbcshsgwdyqqydwgzpnlzzlnpzvfeaiiaefvyeqjccjqeymhqhiihqhmhaomkkmoahhddymmyddh'\n",
    "string5 = 'ggppppuurrjjooddwwyyllmmvvffddmmppxxaabbddddooppxxgghhhhvvnneeqqyyttbbffvvjjiiaammmmddddhhyywwqqiijj'\n",
    "# string4 should be empty\n",
    "\n",
    "print(superReducedString(string))\n",
    "print(superReducedString(string2))\n",
    "print(superReducedString(string3))\n",
    "print(superReducedString(string4))\n",
    "print(superReducedString(string5))"
   ]
  },
  {
   "cell_type": "code",
   "execution_count": null,
   "metadata": {},
   "outputs": [],
   "source": [
    "# Reduce a string of lowercase characters in range ascii[‘a’..’z’]by doing a series of operations. \n",
    "# In each operation, select a pair of adjacent letters that match, and delete them.\n",
    "\n",
    "# Delete as many characters as possible using this method and return the resulting string.\n",
    "#If the final string is empty, return Empty String else return reamining string\n",
    "def superReducedString(s): \n",
    "    # your code here: \n",
    "    #\n",
    "    #\n",
    "    \n",
    "    \n",
    "string  = 'baab'\n",
    "string2 = 'aaabccddd'\n",
    "string3 = 'aaaacdaa'\n",
    "string4 = 'mwkommokwmxjivkkvijxshscbbcshsgwdyqqydwgzpnlzzlnpzvfeaiiaefvyeqjccjqeymhqhiihqhmhaomkkmoahhddymmyddh'\n",
    "string5 = 'ggppppuurrjjooddwwyyllmmvvffddmmppxxaabbddddooppxxgghhhhvvnneeqqyyttbbffvvjjiiaammmmddddhhyywwqqiijj'\n",
    "\n",
    "print(superReducedString(string)) -> 'Empty String'\n",
    "print(superReducedString(string2)) -> 'abd'\n",
    "print(superReducedString(string3)) -> 'cd'\n",
    "print(superReducedString(string4)) -> 'Empty String'\n",
    "print(superReducedString(string5)) -> 'Empty String'  "
   ]
  },
  {
   "cell_type": "code",
   "execution_count": null,
   "metadata": {},
   "outputs": [],
   "source": []
  }
 ],
 "metadata": {
  "kernelspec": {
   "display_name": "Python 3",
   "language": "python",
   "name": "python3"
  },
  "language_info": {
   "codemirror_mode": {
    "name": "ipython",
    "version": 3
   },
   "file_extension": ".py",
   "mimetype": "text/x-python",
   "name": "python",
   "nbconvert_exporter": "python",
   "pygments_lexer": "ipython3",
   "version": "3.7.4"
  }
 },
 "nbformat": 4,
 "nbformat_minor": 2
}
