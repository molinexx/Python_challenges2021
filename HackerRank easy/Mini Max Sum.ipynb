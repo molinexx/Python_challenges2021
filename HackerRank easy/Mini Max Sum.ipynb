{
 "cells": [
  {
   "cell_type": "markdown",
   "metadata": {},
   "source": [
    "##### Given five positive integers, find the minimum and maximum values that can be calculated by summing exactly four of the five integers. Then print the respective minimum and maximum values as a single line of two space-separated long integers.\n",
    "##### Example  ar=[1,3,5,7,9]\n",
    "\n",
    "##### The minimum sum  is 1+3+5+7=16  and the maximum sum is  3+5+7+9=24. The function prints  16 24\n",
    "##### Print two space-separated integers on one line: the minimum sum and the maximum sum of  of  elements."
   ]
  },
  {
   "cell_type": "code",
   "execution_count": 52,
   "metadata": {},
   "outputs": [
    {
     "name": "stdout",
     "output_type": "stream",
     "text": [
      "5 5\n",
      "0 0\n"
     ]
    }
   ],
   "source": [
    "# only working when all numbers are different, no duplicates\n",
    "\n",
    "def miniMaxSum(arr):\n",
    "\n",
    "    smallest_num=arr[0]\n",
    "    biggest_num=arr[0]\n",
    "    print (    smallest_num,     biggest_num)\n",
    "    for x in arr:\n",
    "        if x<smallest_num:\n",
    "            smallest_num=x\n",
    "        if x>biggest_num:\n",
    "            biggest_num=x\n",
    "\n",
    "    max_arr=[x for x in arr if x!=smallest_num] #here is a problem: smallest is 5 so array will be totaling to 0\n",
    "    min_arr=[x for x in arr if x!=biggest_num]\n",
    "    \n",
    "    print(sum(min_arr), sum(max_arr))\n",
    "\n",
    "\n",
    "#arr=[1,2,3,4,5]\n",
    "#miniMaxSum(arr)\n",
    "\n",
    "#arr=[1,3,5,7,9]\n",
    "#miniMaxSum(arr)\n",
    "\n",
    "arr=[5 ,5, 5 ,5 ,5]\n",
    "miniMaxSum(arr)"
   ]
  },
  {
   "cell_type": "code",
   "execution_count": 45,
   "metadata": {},
   "outputs": [
    {
     "name": "stdout",
     "output_type": "stream",
     "text": [
      "10 14\n",
      "16 24\n",
      "20 20\n"
     ]
    }
   ],
   "source": [
    "# this one is working fine\n",
    "def miniMaxSum(arr):\n",
    "    max_num=0\n",
    "    min_num=10000000000000000000\n",
    "    for x in range (0,len(arr)):\n",
    "    \n",
    "        total=0\n",
    "        z=arr.pop(x)\n",
    "\n",
    "        for i in arr:\n",
    "            total+=i\n",
    "        if total>max_num:\n",
    "            max_num=total\n",
    "        if total<min_num:\n",
    "            min_num=total\n",
    "\n",
    "            \n",
    "        arr.insert(x,z)\n",
    "    print( min_num, max_num)\n",
    "   \n",
    "    \n",
    "arr=[1,2,3,4,5]\n",
    "miniMaxSum(arr)\n",
    "arr=[1,3,5,7,9]\n",
    "miniMaxSum(arr)\n",
    "arr=[5 ,5, 5 ,5 ,5]\n",
    "miniMaxSum(arr)"
   ]
  },
  {
   "cell_type": "code",
   "execution_count": null,
   "metadata": {},
   "outputs": [],
   "source": []
  }
 ],
 "metadata": {
  "kernelspec": {
   "display_name": "Python 3",
   "language": "python",
   "name": "python3"
  },
  "language_info": {
   "codemirror_mode": {
    "name": "ipython",
    "version": 3
   },
   "file_extension": ".py",
   "mimetype": "text/x-python",
   "name": "python",
   "nbconvert_exporter": "python",
   "pygments_lexer": "ipython3",
   "version": "3.7.4"
  }
 },
 "nbformat": 4,
 "nbformat_minor": 2
}
