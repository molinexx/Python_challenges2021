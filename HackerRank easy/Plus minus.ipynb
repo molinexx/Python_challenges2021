{
 "cells": [
  {
   "cell_type": "markdown",
   "metadata": {},
   "source": [
    "##### Given an array of integers, calculate the ratios of its elements that are positive, negative, and zero. Print the decimal value of each fraction on a new line with 6 places after the decimal.\n",
    "\n",
    "##### Note: This challenge introduces precision problems. The test cases are scaled to six decimal places, though answers with absolute error of up to 10. -4 are acceptable.\n",
    "##### Print the ratios of positive, negative and zero values in the array. Each value should be printed on a separate line with  digits after the decimal. The function should not return a value.\n",
    "\n",
    "##### Example\n",
    "\n",
    "##### There are 5 elements, 2 two positive,2 two negative and one zero. Their ratios are 2/5 = .400000 ,2/5=.400000  and 1/5 = .200000. Results are printed as:"
   ]
  },
  {
   "cell_type": "code",
   "execution_count": null,
   "metadata": {},
   "outputs": [],
   "source": [
    "0.400000\n",
    "0.400000\n",
    "0.200000"
   ]
  },
  {
   "cell_type": "code",
   "execution_count": 14,
   "metadata": {},
   "outputs": [
    {
     "name": "stdout",
     "output_type": "stream",
     "text": [
      "0.500000\n",
      "0.333333\n",
      "0.166667\n",
      "\n",
      "0.400000\n",
      "0.400000\n",
      "0.200000\n"
     ]
    }
   ],
   "source": [
    "def plusMinus(arr):\n",
    "    #separate arrays and get lenghts of each array\n",
    "    arr_pos=len([x for x in arr if x>0])\n",
    "    arr_neg=len([x for x in arr if x<0])\n",
    "    arr_zero=len([x for x in arr if x==0])\n",
    "    #calculate ratios\n",
    "    print (format ( arr_pos/len(arr), '.6f'))\n",
    "    print (format ( arr_neg/len(arr), '.6f'))\n",
    "    print (format ( arr_zero/len(arr), '.6f'))\n",
    "\n",
    "    \n",
    "\n",
    "arr = [-4, 3, -9, 0, 4, 1]\n",
    "arr2=[1, 1, 0, -1, -1]\n",
    "\n",
    "plusMinus(arr)   \n",
    "print()\n",
    "plusMinus(arr2)    "
   ]
  },
  {
   "cell_type": "code",
   "execution_count": 9,
   "metadata": {},
   "outputs": [
    {
     "data": {
      "text/plain": [
       "0.4"
      ]
     },
     "execution_count": 9,
     "metadata": {},
     "output_type": "execute_result"
    }
   ],
   "source": [
    "2/5\n"
   ]
  },
  {
   "cell_type": "code",
   "execution_count": null,
   "metadata": {},
   "outputs": [],
   "source": []
  }
 ],
 "metadata": {
  "kernelspec": {
   "display_name": "Python 3",
   "language": "python",
   "name": "python3"
  },
  "language_info": {
   "codemirror_mode": {
    "name": "ipython",
    "version": 3
   },
   "file_extension": ".py",
   "mimetype": "text/x-python",
   "name": "python",
   "nbconvert_exporter": "python",
   "pygments_lexer": "ipython3",
   "version": "3.7.4"
  }
 },
 "nbformat": 4,
 "nbformat_minor": 2
}
