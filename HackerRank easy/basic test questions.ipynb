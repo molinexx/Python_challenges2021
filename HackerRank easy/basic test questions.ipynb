{
 "cells": [
  {
   "cell_type": "markdown",
   "metadata": {},
   "source": [
    "#### sample test : FIZz, Buzz"
   ]
  },
  {
   "cell_type": "code",
   "execution_count": 1,
   "metadata": {},
   "outputs": [
    {
     "name": "stdout",
     "output_type": "stream",
     "text": [
      "1\n",
      "2\n",
      "Fizz\n",
      "4\n",
      "Buzz\n",
      "Fizz\n",
      "7\n",
      "8\n",
      "Fizz\n",
      "Buzz\n",
      "11\n",
      "Fizz\n",
      "13\n",
      "14\n",
      "FizzBuzz\n"
     ]
    }
   ],
   "source": [
    "def fizzBuzz(n):\n",
    "  \n",
    "    for i in range (1,n+1):\n",
    "        if (i%3==0 )and (i%5==0):\n",
    "            print (\"FizzBuzz\")\n",
    "            \n",
    "        elif( i%5==0) and (i%3!=0):\n",
    "            print(\"Buzz\")\n",
    "        elif (i%3==0)and (i%5!=0):\n",
    "            print(\"Fizz\")\n",
    "        else:\n",
    "            print(i)\n",
    "            \n",
    "fizzBuzz(15)"
   ]
  },
  {
   "cell_type": "markdown",
   "metadata": {},
   "source": [
    "### test with two questions:\n",
    " "
   ]
  },
  {
   "cell_type": "code",
   "execution_count": 69,
   "metadata": {},
   "outputs": [
    {
     "name": "stdout",
     "output_type": "stream",
     "text": [
      "cold\n",
      "clod\n",
      "docl\n",
      "heater\n",
      "heater\n",
      "reheat\n",
      "reheat\n",
      "ba\n"
     ]
    },
    {
     "data": {
      "text/plain": [
       "[3, 4, 0, 1]"
      ]
     },
     "execution_count": 69,
     "metadata": {},
     "output_type": "execute_result"
    }
   ],
   "source": [
    "# question 1\n",
    "# how many times an anagram of the string from query-list appears in dictionary-list \n",
    "\n",
    "#this solution is not working or the second string \"heater\" - not sure why!!!!!!!!!!!!!!!!????????????????????\n",
    "#correct solution should be [3,2,0,1],\n",
    "# \"codl\":3 times(cold ,clod , and docl), 'heater':2 times (heater and reheat), 'abcd':0 times, 'ab':1 (ba).\n",
    "\n",
    "\n",
    "import itertools\n",
    "\n",
    "def stringAnagram(dictionary, query):\n",
    "    lis=[]\n",
    "    for i in range (len(query)):\n",
    "        \n",
    "        temp_list=(list(itertools.permutations( query[i])))\n",
    "        \n",
    "        joined_temp_list=[]\n",
    "        \n",
    "        for z in temp_list:\n",
    "            z=\"\".join(z)\n",
    "            joined_temp_list.append(z)\n",
    "            \n",
    "        #print (joined_temp_list)\n",
    "        counter=0\n",
    "        for j in joined_temp_list:            \n",
    "            if j in dictionary:\n",
    "                print(j)\n",
    "                counter+=1\n",
    "                \n",
    "        lis.append(counter)\n",
    "        \n",
    "    return(lis)\n",
    "    \n",
    "    \n",
    "dictionary=[\"heater\",'cold','clod','reheat','docl','ba']\n",
    "query=[\"codl\",'heater','abcd','ab']\n",
    "\n",
    "stringAnagram(dictionary, query)\n",
    "\n",
    "\n",
    "\n"
   ]
  },
  {
   "cell_type": "code",
   "execution_count": 70,
   "metadata": {},
   "outputs": [
    {
     "name": "stdout",
     "output_type": "stream",
     "text": [
      "[3, 2, 0, 1]\n"
     ]
    }
   ],
   "source": [
    "#this solution works\n",
    "\n",
    "def sort_strings_in_list(lis):\n",
    "    sorted_list=[]\n",
    "    for i in lis:\n",
    "        strin_list=list(i)\n",
    "        strin_list.sort()\n",
    "        z=\"\".join(strin_list)\n",
    "        sorted_list.append(z)\n",
    "    return sorted_list\n",
    "\n",
    "def stringAnagram(dictionary, query):\n",
    "    sorted_query=sort_strings_in_list(query)\n",
    "    sorted_dic=sort_strings_in_list(dictionary)\n",
    "    #print(sorted_query)  \n",
    "    #print(sorted_dic)\n",
    "    diction={}\n",
    "    for i in sorted_dic:\n",
    "        if i not in diction:\n",
    "            diction[i]=1\n",
    "        else:\n",
    "            diction[i]+=1\n",
    "            \n",
    "    list_of_times=[]  \n",
    "    for z in sorted_query:\n",
    "        if z in sorted_dic:\n",
    "             list_of_times.append(diction[z])\n",
    "        else:\n",
    "            list_of_times.append(0)\n",
    " \n",
    "    print (list_of_times)\n",
    "    \n",
    "    \n",
    "  \n",
    "    \n",
    "dictionary=[\"heater\",'cold','clod','reheat','docl','ba']\n",
    "query=[\"codl\",'heater','abcd','ab']\n",
    "\n",
    "stringAnagram(dictionary, query)    "
   ]
  },
  {
   "cell_type": "code",
   "execution_count": null,
   "metadata": {},
   "outputs": [],
   "source": []
  },
  {
   "cell_type": "markdown",
   "metadata": {},
   "source": [
    "### question 2\n",
    "#### Given the array of integers, what is the lenght of the longest subarray containing no more then two distinct values such as that the distinct values differ by no more than 1? \n",
    "#### example arr = [0,1,2,1,2,3].  The largest subarray has lenght of 4 :  [1,2,1,2]   arr = [1,1,1,3,3,2,2]  -> lenght  4 : [3,3,2,2,] "
   ]
  },
  {
   "cell_type": "code",
   "execution_count": null,
   "metadata": {},
   "outputs": [],
   "source": [
    "\n",
    "\n",
    "\n",
    "def longestSubarr,y(arr):,\n",
    "    n=arr.pop(0),\n",
    "    new_arr=[n]\n",
    "    for z in arr:\n",
    "        if (z==new_arr[-1]+1) or (z==new_arr[-1]-1):\n",
    "            \n",
    "            new_arr.append(z)\n",
    "        else:\n",
    "            \n",
    "    print(new_arr)\n",
    "    lenght= len(new_arr)\n",
    "    return lenght\n",
    "#arr=[1,2,1,2,4]\n",
    "arr=[1,1,1,3,3,2]\n",
    "\n",
    "print (longestSubarray(arr))"
   ]
  }
 ],
 "metadata": {
  "kernelspec": {
   "display_name": "Python 3",
   "language": "python",
   "name": "python3"
  },
  "language_info": {
   "codemirror_mode": {
    "name": "ipython",
    "version": 3
   },
   "file_extension": ".py",
   "mimetype": "text/x-python",
   "name": "python",
   "nbconvert_exporter": "python",
   "pygments_lexer": "ipython3",
   "version": "3.7.4"
  }
 },
 "nbformat": 4,
 "nbformat_minor": 2
}
