{
 "cells": [
  {
   "cell_type": "code",
   "execution_count": null,
   "metadata": {},
   "outputs": [],
   "source": [
    "# Sam's house has an apple tree and an orange tree that yield an abundance of fruit. \n",
    "# Using the information given below, determine the number of apples and oranges that land on Sam's house."
   ]
  },
  {
   "cell_type": "code",
   "execution_count": 11,
   "metadata": {},
   "outputs": [
    {
     "name": "stdout",
     "output_type": "stream",
     "text": [
      "2\n",
      "2\n"
     ]
    }
   ],
   "source": [
    "def countApplesAndOranges(s, t, a, b, apples, oranges):\n",
    "    apple_count = 0\n",
    "    orange_count = 0\n",
    "    for ap in apples:\n",
    "        if (a +ap >= s) & (a +ap <=t):\n",
    "            apple_count+=1\n",
    "    for o in oranges:\n",
    "        if (b + o <=t) & (b + o >= s):\n",
    "            orange_count+=1\n",
    "            \n",
    "    print (apple_count)\n",
    "    print(orange_count)\n",
    "    \n",
    "\n",
    "s=7 \n",
    "t= 10              \n",
    "a=4 \n",
    "b =12 \n",
    "\n",
    "apples =[-2, 3, -4, 6] \n",
    "oranges = [3,-2, -4, -7]\n",
    "countApplesAndOranges( s,t,a,b, apples, oranges )\n"
   ]
  },
  {
   "cell_type": "code",
   "execution_count": null,
   "metadata": {},
   "outputs": [],
   "source": []
  }
 ],
 "metadata": {
  "kernelspec": {
   "display_name": "Python 3",
   "language": "python",
   "name": "python3"
  },
  "language_info": {
   "codemirror_mode": {
    "name": "ipython",
    "version": 3
   },
   "file_extension": ".py",
   "mimetype": "text/x-python",
   "name": "python",
   "nbconvert_exporter": "python",
   "pygments_lexer": "ipython3",
   "version": "3.7.4"
  }
 },
 "nbformat": 4,
 "nbformat_minor": 2
}
