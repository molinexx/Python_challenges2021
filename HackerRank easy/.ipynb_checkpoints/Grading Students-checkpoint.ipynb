{
 "cells": [
  {
   "cell_type": "code",
   "execution_count": 1,
   "metadata": {},
   "outputs": [],
   "source": [
    "# The function is expected to return an INTEGER_ARRAY.\n",
    "# The function accepts INTEGER_ARRAY grades as parameter.\n",
    "# If the value of  grade is less than 38 , no rounding occurs as the result will still be a failing grade."
   ]
  },
  {
   "cell_type": "code",
   "execution_count": 20,
   "metadata": {},
   "outputs": [
    {
     "name": "stdout",
     "output_type": "stream",
     "text": [
      "[75, 67, 40, 33]\n"
     ]
    }
   ],
   "source": [
    "import math\n",
    "def grade_upgrade(g):\n",
    "    \n",
    "    upper_grade= (math.ceil(g/5))*5\n",
    "    if (upper_grade - g) < 3:\n",
    "        return upper_grade\n",
    "    else:\n",
    "        return g\n",
    "\n",
    "\n",
    "\n",
    "def gradingStudents(grades):\n",
    "    final_grades =[]\n",
    "    for grade in grades:\n",
    "        if grade >= 38:\n",
    "            grade = grade_upgrade(grade)\n",
    "            \n",
    "        final_grades.append(grade)\n",
    "    return final_grades\n",
    "        \n",
    "list1=[73, 67, 38, 33]    \n",
    "print(gradingStudents(list1))"
   ]
  }
 ],
 "metadata": {
  "kernelspec": {
   "display_name": "Python 3",
   "language": "python",
   "name": "python3"
  },
  "language_info": {
   "codemirror_mode": {
    "name": "ipython",
    "version": 3
   },
   "file_extension": ".py",
   "mimetype": "text/x-python",
   "name": "python",
   "nbconvert_exporter": "python",
   "pygments_lexer": "ipython3",
   "version": "3.7.4"
  }
 },
 "nbformat": 4,
 "nbformat_minor": 2
}
