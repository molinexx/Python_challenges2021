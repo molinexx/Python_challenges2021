{
 "cells": [
  {
   "cell_type": "code",
   "execution_count": null,
   "metadata": {},
   "outputs": [],
   "source": [
    "#####   This is a staircase of size  n=4\n",
    "##### Print a staircase of size  using # symbols and spaces.  Note: The last line must have  spaces in it."
   ]
  },
  {
   "cell_type": "code",
   "execution_count": null,
   "metadata": {},
   "outputs": [],
   "source": [
    "   #\n",
    "  ##\n",
    " ###\n",
    "####"
   ]
  },
  {
   "cell_type": "code",
   "execution_count": 49,
   "metadata": {},
   "outputs": [
    {
     "name": "stdout",
     "output_type": "stream",
     "text": [
      "    #\n",
      "   ##\n",
      "  ###\n",
      " ####\n"
     ]
    }
   ],
   "source": [
    "#this answer was not  accepted!using \",\" creates extra space\n",
    "def staircase(n):\n",
    "    for x in range(1,n+1):\n",
    "        print(' '*(n-x),\"#\"*(x))        \n",
    "n=4\n",
    "staircase(n)"
   ]
  },
  {
   "cell_type": "code",
   "execution_count": 48,
   "metadata": {},
   "outputs": [
    {
     "name": "stdout",
     "output_type": "stream",
     "text": [
      "   #\n",
      "  ##\n",
      " ###\n",
      "####\n"
     ]
    }
   ],
   "source": [
    "#I used + instead of , and now it seems like extra space is gone\n",
    "def staircase(n):\n",
    "    for x in range(1,n+1):\n",
    "        print(' '*(n-x)+\"#\"*(x))        \n",
    "n=4\n",
    "staircase(n)"
   ]
  },
  {
   "cell_type": "code",
   "execution_count": 18,
   "metadata": {},
   "outputs": [
    {
     "name": "stdout",
     "output_type": "stream",
     "text": [
      "   #\n",
      "  ##\n",
      " ###\n",
      "####\n"
     ]
    }
   ],
   "source": [
    "# this is the only correct answer accoding to Hackerrank\n",
    "def staircase(n):\n",
    "    for i in range(1, n+1):\n",
    "         print((\"#\" * i).rjust(n))\n",
    "n=4\n",
    "staircase(n)"
   ]
  },
  {
   "cell_type": "code",
   "execution_count": 29,
   "metadata": {},
   "outputs": [
    {
     "name": "stdout",
     "output_type": "stream",
     "text": [
      "   #\n",
      "  ##\n",
      " ###\n",
      "####\n"
     ]
    }
   ],
   "source": [
    " def staircase(n):\n",
    "        for i in range(n):\n",
    "            for j in range (n):\n",
    "                if i+j == n-1:\n",
    "                    print(\" \"*j+\"#\"*(n-j))\n",
    "                \n",
    "n=4\n",
    "staircase(n)"
   ]
  },
  {
   "cell_type": "code",
   "execution_count": 43,
   "metadata": {},
   "outputs": [
    {
     "name": "stdout",
     "output_type": "stream",
     "text": [
      "####\n",
      " ###\n",
      "  ##\n",
      "   #\n"
     ]
    }
   ],
   "source": [
    " def staircase(n):\n",
    "        for i in range(n):\n",
    "            for j in range (n):        \n",
    "                print(\" \"*j+\"#\"*(n-j))\n",
    "            break\n",
    "n=4\n",
    "staircase(n)"
   ]
  },
  {
   "cell_type": "code",
   "execution_count": 42,
   "metadata": {},
   "outputs": [
    {
     "name": "stdout",
     "output_type": "stream",
     "text": [
      "    #\n",
      "   ##\n",
      "  ###\n",
      " ####\n"
     ]
    }
   ],
   "source": [
    " def staircase(n):\n",
    "        for i in range(1,n+1):\n",
    "            for j in range (1,n+1):        \n",
    "                print(\" \"*(n-i),\"#\"*(i))\n",
    "                break\n",
    "n=4\n",
    "staircase(n)"
   ]
  },
  {
   "cell_type": "code",
   "execution_count": null,
   "metadata": {},
   "outputs": [],
   "source": []
  }
 ],
 "metadata": {
  "kernelspec": {
   "display_name": "Python 3",
   "language": "python",
   "name": "python3"
  },
  "language_info": {
   "codemirror_mode": {
    "name": "ipython",
    "version": 3
   },
   "file_extension": ".py",
   "mimetype": "text/x-python",
   "name": "python",
   "nbconvert_exporter": "python",
   "pygments_lexer": "ipython3",
   "version": "3.7.4"
  }
 },
 "nbformat": 4,
 "nbformat_minor": 2
}
